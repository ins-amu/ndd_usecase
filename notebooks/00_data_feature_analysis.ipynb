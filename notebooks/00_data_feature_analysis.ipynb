{
 "cells": [
  {
   "cell_type": "markdown",
   "id": "fe53dcbb-7c94-4fc4-850d-70d2328b1a11",
   "metadata": {},
   "source": [
    "# Empirical data features\n",
    "\n",
    "This is the first notebook in a series illustrating the workflow of the usecase of virtual brain modeling and inference in the context of neurodegenerative disease (NDD). Here, as a first step, we analyze the empirical data features."
   ]
  },
  {
   "cell_type": "code",
   "execution_count": 1,
   "id": "554bcee3-e1c7-43e6-ae22-3f505585e7da",
   "metadata": {
    "jupyter": {
     "source_hidden": true
    },
    "tags": []
   },
   "outputs": [
    {
     "name": "stdout",
     "output_type": "stream",
     "text": [
      "2023-05-31\n"
     ]
    },
    {
     "name": "stderr",
     "output_type": "stream",
     "text": [
      "/home/izaak/local_repos/nostromo/virtual_ndd_brain_WT_usecase/env/lib/python3.8/site-packages/tvb/datatypes/surfaces.py:60: UserWarning: Geodesic distance module is unavailable; some functionality for surfaces will be unavailable.\n",
      "  warnings.warn(msg)\n"
     ]
    }
   ],
   "source": [
    "!date -I\n",
    "\n",
    "%load_ext autoreload\n",
    "%autoreload 2\n",
    "%matplotlib inline\n",
    "\n",
    "import numpy as np\n",
    "import matplotlib.pylab as plt\n",
    "\n",
    "from src.data.data_loader import Synthetic"
   ]
  },
  {
   "cell_type": "markdown",
   "id": "fb2988e7-94b7-49c2-89c6-aa601c71c9d2",
   "metadata": {},
   "source": [
    "The `Synthetic` class contains all the helper codes to work with this particular dataset, such as loading the subjects' metadata or the data of individual subjects. "
   ]
  },
  {
   "cell_type": "code",
   "execution_count": 11,
   "id": "dee93d7f-3960-4b25-b9ec-a6602954f326",
   "metadata": {
    "tags": []
   },
   "outputs": [],
   "source": [
    "dset = Synthetic()"
   ]
  },
  {
   "cell_type": "code",
   "execution_count": 3,
   "id": "fd252e13-0e75-48c6-806c-31888bd89499",
   "metadata": {
    "tags": []
   },
   "outputs": [
    {
     "data": {
      "text/html": [
       "<div>\n",
       "<style scoped>\n",
       "    .dataframe tbody tr th:only-of-type {\n",
       "        vertical-align: middle;\n",
       "    }\n",
       "\n",
       "    .dataframe tbody tr th {\n",
       "        vertical-align: top;\n",
       "    }\n",
       "\n",
       "    .dataframe thead th {\n",
       "        text-align: right;\n",
       "    }\n",
       "</style>\n",
       "<table border=\"1\" class=\"dataframe\">\n",
       "  <thead>\n",
       "    <tr style=\"text-align: right;\">\n",
       "      <th></th>\n",
       "      <th>group</th>\n",
       "      <th>eta_limbic</th>\n",
       "    </tr>\n",
       "    <tr>\n",
       "      <th>id</th>\n",
       "      <th></th>\n",
       "      <th></th>\n",
       "    </tr>\n",
       "  </thead>\n",
       "  <tbody>\n",
       "    <tr>\n",
       "      <th>sub-001</th>\n",
       "      <td>AD</td>\n",
       "      <td>-4.0</td>\n",
       "    </tr>\n",
       "    <tr>\n",
       "      <th>sub-002</th>\n",
       "      <td>AD</td>\n",
       "      <td>-4.0</td>\n",
       "    </tr>\n",
       "    <tr>\n",
       "      <th>sub-003</th>\n",
       "      <td>AD</td>\n",
       "      <td>-4.0</td>\n",
       "    </tr>\n",
       "    <tr>\n",
       "      <th>sub-004</th>\n",
       "      <td>AD</td>\n",
       "      <td>-4.0</td>\n",
       "    </tr>\n",
       "    <tr>\n",
       "      <th>sub-005</th>\n",
       "      <td>AD</td>\n",
       "      <td>-4.0</td>\n",
       "    </tr>\n",
       "    <tr>\n",
       "      <th>...</th>\n",
       "      <td>...</td>\n",
       "      <td>...</td>\n",
       "    </tr>\n",
       "    <tr>\n",
       "      <th>sub-111</th>\n",
       "      <td>NORM</td>\n",
       "      <td>-4.5</td>\n",
       "    </tr>\n",
       "    <tr>\n",
       "      <th>sub-112</th>\n",
       "      <td>NORM</td>\n",
       "      <td>-4.5</td>\n",
       "    </tr>\n",
       "    <tr>\n",
       "      <th>sub-113</th>\n",
       "      <td>NORM</td>\n",
       "      <td>-4.5</td>\n",
       "    </tr>\n",
       "    <tr>\n",
       "      <th>sub-114</th>\n",
       "      <td>NORM</td>\n",
       "      <td>-4.5</td>\n",
       "    </tr>\n",
       "    <tr>\n",
       "      <th>sub-115</th>\n",
       "      <td>NORM</td>\n",
       "      <td>-4.5</td>\n",
       "    </tr>\n",
       "  </tbody>\n",
       "</table>\n",
       "<p>115 rows × 2 columns</p>\n",
       "</div>"
      ],
      "text/plain": [
       "        group  eta_limbic\n",
       "id                       \n",
       "sub-001    AD        -4.0\n",
       "sub-002    AD        -4.0\n",
       "sub-003    AD        -4.0\n",
       "sub-004    AD        -4.0\n",
       "sub-005    AD        -4.0\n",
       "...       ...         ...\n",
       "sub-111  NORM        -4.5\n",
       "sub-112  NORM        -4.5\n",
       "sub-113  NORM        -4.5\n",
       "sub-114  NORM        -4.5\n",
       "sub-115  NORM        -4.5\n",
       "\n",
       "[115 rows x 2 columns]"
      ]
     },
     "execution_count": 3,
     "metadata": {},
     "output_type": "execute_result"
    }
   ],
   "source": [
    "dset.subjects_metadata"
   ]
  },
  {
   "cell_type": "markdown",
   "id": "a119600c-a4d2-4698-adf7-fd1201642699",
   "metadata": {
    "tags": []
   },
   "source": [
    "We can inspect the data of individual subjects:"
   ]
  },
  {
   "cell_type": "code",
   "execution_count": 4,
   "id": "12313089-f5dc-41a5-8152-d17be7d1fe41",
   "metadata": {
    "tags": []
   },
   "outputs": [],
   "source": [
    "subject = dset.subjects[0]"
   ]
  },
  {
   "cell_type": "code",
   "execution_count": 5,
   "id": "d689743c-c2c1-492b-9d05-040aeaf74e38",
   "metadata": {
    "tags": []
   },
   "outputs": [
    {
     "data": {
      "text/plain": [
       "<matplotlib.image.AxesImage at 0x7f8b1fe4f7c0>"
      ]
     },
     "execution_count": 5,
     "metadata": {},
     "output_type": "execute_result"
    },
    {
     "data": {
      "image/png": "[encoded data removed]",
      "text/plain": [
       "<Figure size 640x480 with 1 Axes>"
      ]
     },
     "metadata": {},
     "output_type": "display_data"
    }
   ],
   "source": [
    "plt.imshow(dset.load_bold(subject).T)"
   ]
  },
  {
   "cell_type": "code",
   "execution_count": 6,
   "id": "96066dce-a9fe-4978-98f0-2a5771ed0753",
   "metadata": {
    "tags": []
   },
   "outputs": [
    {
     "data": {
      "text/plain": [
       "<matplotlib.image.AxesImage at 0x7f8b1dd35d90>"
      ]
     },
     "execution_count": 6,
     "metadata": {},
     "output_type": "execute_result"
    },
    {
     "data": {
      "image/png": "[encoded data removed]",
      "text/plain": [
       "<Figure size 640x480 with 1 Axes>"
      ]
     },
     "metadata": {},
     "output_type": "display_data"
    }
   ],
   "source": [
    "plt.imshow(dset.load_SC(subject))"
   ]
  },
  {
   "cell_type": "markdown",
   "id": "ad82e0c3-8fe1-403c-81bc-8be8ade907a1",
   "metadata": {},
   "source": [
    "Now we can loop over the subjects and compute the summary statistics of the data. The choise of particular measures will be different for every usecase, here we look on the following:\n",
    "- structural connectivity within the limbic network\n",
    "- homotopic functional connectivity\n",
    "- fluidity of the functional connectivity dynamics within the limbic network"
   ]
  },
  {
   "cell_type": "code",
   "execution_count": 7,
   "id": "4f47e5a6-d7d0-43e0-bc80-e38579abaa09",
   "metadata": {
    "tags": []
   },
   "outputs": [],
   "source": [
    "from src.data_features.summary_statistics import compute_summary_statistics"
   ]
  },
  {
   "cell_type": "code",
   "execution_count": 8,
   "id": "df8df671-1234-4b4e-87ec-7dfbbe4ba3e6",
   "metadata": {
    "tags": []
   },
   "outputs": [],
   "source": [
    "import pandas as pd"
   ]
  },
  {
   "cell_type": "markdown",
   "id": "81c8d560-89a9-4af2-b072-a8c2128e0e90",
   "metadata": {},
   "source": [
    "Let's start with looking at the connectivity strength within the limbic system across the groups.\n",
    "\n",
    "The labels and indices of the limbic system can be recovered from the parcellation attribute of the dataset:"
   ]
  },
  {
   "cell_type": "code",
   "execution_count": 12,
   "id": "66c27304-7762-4456-bdcb-623659e082a3",
   "metadata": {},
   "outputs": [],
   "source": [
    "limbic_labels, limbic_idx, _, _, _, _  = dset.parcellation.load_limbic()"
   ]
  },
  {
   "cell_type": "code",
   "execution_count": 13,
   "id": "f4fe19fb-b5e4-4e2e-a4e5-fdeb8c1552a4",
   "metadata": {},
   "outputs": [
    {
     "data": {
      "text/plain": [
       "array(['Hippocampus_R', 'ParaHippocampal_R', 'Cingulum_Ant_R',\n",
       "       'Cingulum_Mid_R', 'Cingulum_Post_R', 'Amygdala_R',\n",
       "       'Temporal_Pole_Sup_R', 'Temporal_Mid_R', 'Hippocampus_L',\n",
       "       'ParaHippocampal_L', 'Cingulum_Ant_L', 'Cingulum_Mid_L',\n",
       "       'Cingulum_Post_L', 'Amygdala_L', 'Temporal_Pole_Sup_L',\n",
       "       'Temporal_Mid_L'], dtype='<U19')"
      ]
     },
     "execution_count": 13,
     "metadata": {},
     "output_type": "execute_result"
    }
   ],
   "source": [
    "np.r_[limbic_labels]"
   ]
  },
  {
   "cell_type": "markdown",
   "id": "68a87ba3-359d-4f01-ba62-5753fa09b213",
   "metadata": {},
   "source": [
    "With the indices, we can then create the subnetwork of a an array `SC` as simple as `SC[limbic_idx,:][:, limbic_idx]`. \n",
    "\n",
    "Looping over all subjects, we get the follwing data frame:"
   ]
  },
  {
   "cell_type": "code",
   "execution_count": 14,
   "id": "e8c1d275-6d6f-480f-8287-fbcb5957ea87",
   "metadata": {
    "tags": []
   },
   "outputs": [
    {
     "data": {
      "text/html": [
       "<div>\n",
       "<style scoped>\n",
       "    .dataframe tbody tr th:only-of-type {\n",
       "        vertical-align: middle;\n",
       "    }\n",
       "\n",
       "    .dataframe tbody tr th {\n",
       "        vertical-align: top;\n",
       "    }\n",
       "\n",
       "    .dataframe thead th {\n",
       "        text-align: right;\n",
       "    }\n",
       "</style>\n",
       "<table border=\"1\" class=\"dataframe\">\n",
       "  <thead>\n",
       "    <tr style=\"text-align: right;\">\n",
       "      <th></th>\n",
       "      <th>id</th>\n",
       "      <th>sc_limbic</th>\n",
       "    </tr>\n",
       "  </thead>\n",
       "  <tbody>\n",
       "    <tr>\n",
       "      <th>0</th>\n",
       "      <td>sub-001</td>\n",
       "      <td>5.037890</td>\n",
       "    </tr>\n",
       "    <tr>\n",
       "      <th>1</th>\n",
       "      <td>sub-002</td>\n",
       "      <td>3.646875</td>\n",
       "    </tr>\n",
       "    <tr>\n",
       "      <th>2</th>\n",
       "      <td>sub-003</td>\n",
       "      <td>2.429534</td>\n",
       "    </tr>\n",
       "    <tr>\n",
       "      <th>3</th>\n",
       "      <td>sub-004</td>\n",
       "      <td>3.482776</td>\n",
       "    </tr>\n",
       "    <tr>\n",
       "      <th>4</th>\n",
       "      <td>sub-005</td>\n",
       "      <td>1.420778</td>\n",
       "    </tr>\n",
       "    <tr>\n",
       "      <th>...</th>\n",
       "      <td>...</td>\n",
       "      <td>...</td>\n",
       "    </tr>\n",
       "    <tr>\n",
       "      <th>110</th>\n",
       "      <td>sub-111</td>\n",
       "      <td>4.402373</td>\n",
       "    </tr>\n",
       "    <tr>\n",
       "      <th>111</th>\n",
       "      <td>sub-112</td>\n",
       "      <td>5.075955</td>\n",
       "    </tr>\n",
       "    <tr>\n",
       "      <th>112</th>\n",
       "      <td>sub-113</td>\n",
       "      <td>3.369252</td>\n",
       "    </tr>\n",
       "    <tr>\n",
       "      <th>113</th>\n",
       "      <td>sub-114</td>\n",
       "      <td>3.847352</td>\n",
       "    </tr>\n",
       "    <tr>\n",
       "      <th>114</th>\n",
       "      <td>sub-115</td>\n",
       "      <td>3.193839</td>\n",
       "    </tr>\n",
       "  </tbody>\n",
       "</table>\n",
       "<p>115 rows × 2 columns</p>\n",
       "</div>"
      ],
      "text/plain": [
       "          id  sc_limbic\n",
       "0    sub-001   5.037890\n",
       "1    sub-002   3.646875\n",
       "2    sub-003   2.429534\n",
       "3    sub-004   3.482776\n",
       "4    sub-005   1.420778\n",
       "..       ...        ...\n",
       "110  sub-111   4.402373\n",
       "111  sub-112   5.075955\n",
       "112  sub-113   3.369252\n",
       "113  sub-114   3.847352\n",
       "114  sub-115   3.193839\n",
       "\n",
       "[115 rows x 2 columns]"
      ]
     },
     "execution_count": 14,
     "metadata": {},
     "output_type": "execute_result"
    }
   ],
   "source": [
    "df = pd.DataFrame(\n",
    "    dict(\n",
    "        id = dset.subjects,\n",
    "        sc_limbic = [dset.load_SC(subject)[limbic_idx,:][:, limbic_idx].sum() for subject in dset.subjects]\n",
    "    )\n",
    ")\n",
    "df"
   ]
  },
  {
   "cell_type": "markdown",
   "id": "7d43cb5a-a3b4-4b03-8e89-7da2822b523c",
   "metadata": {},
   "source": [
    "Merging this with the subject metadata, we can look at the group differences."
   ]
  },
  {
   "cell_type": "code",
   "execution_count": 15,
   "id": "0a6469c1-33a6-4156-b45b-3bf815e51b1e",
   "metadata": {
    "tags": []
   },
   "outputs": [
    {
     "data": {
      "text/html": [
       "<div>\n",
       "<style scoped>\n",
       "    .dataframe tbody tr th:only-of-type {\n",
       "        vertical-align: middle;\n",
       "    }\n",
       "\n",
       "    .dataframe tbody tr th {\n",
       "        vertical-align: top;\n",
       "    }\n",
       "\n",
       "    .dataframe thead th {\n",
       "        text-align: right;\n",
       "    }\n",
       "</style>\n",
       "<table border=\"1\" class=\"dataframe\">\n",
       "  <thead>\n",
       "    <tr style=\"text-align: right;\">\n",
       "      <th></th>\n",
       "      <th>id</th>\n",
       "      <th>group</th>\n",
       "      <th>eta_limbic</th>\n",
       "      <th>sc_limbic</th>\n",
       "    </tr>\n",
       "  </thead>\n",
       "  <tbody>\n",
       "    <tr>\n",
       "      <th>0</th>\n",
       "      <td>sub-001</td>\n",
       "      <td>AD</td>\n",
       "      <td>-4.0</td>\n",
       "      <td>5.037890</td>\n",
       "    </tr>\n",
       "    <tr>\n",
       "      <th>1</th>\n",
       "      <td>sub-002</td>\n",
       "      <td>AD</td>\n",
       "      <td>-4.0</td>\n",
       "      <td>3.646875</td>\n",
       "    </tr>\n",
       "    <tr>\n",
       "      <th>2</th>\n",
       "      <td>sub-003</td>\n",
       "      <td>AD</td>\n",
       "      <td>-4.0</td>\n",
       "      <td>2.429534</td>\n",
       "    </tr>\n",
       "    <tr>\n",
       "      <th>3</th>\n",
       "      <td>sub-004</td>\n",
       "      <td>AD</td>\n",
       "      <td>-4.0</td>\n",
       "      <td>3.482776</td>\n",
       "    </tr>\n",
       "    <tr>\n",
       "      <th>4</th>\n",
       "      <td>sub-005</td>\n",
       "      <td>AD</td>\n",
       "      <td>-4.0</td>\n",
       "      <td>1.420778</td>\n",
       "    </tr>\n",
       "    <tr>\n",
       "      <th>...</th>\n",
       "      <td>...</td>\n",
       "      <td>...</td>\n",
       "      <td>...</td>\n",
       "      <td>...</td>\n",
       "    </tr>\n",
       "    <tr>\n",
       "      <th>110</th>\n",
       "      <td>sub-111</td>\n",
       "      <td>NORM</td>\n",
       "      <td>-4.5</td>\n",
       "      <td>4.402373</td>\n",
       "    </tr>\n",
       "    <tr>\n",
       "      <th>111</th>\n",
       "      <td>sub-112</td>\n",
       "      <td>NORM</td>\n",
       "      <td>-4.5</td>\n",
       "      <td>5.075955</td>\n",
       "    </tr>\n",
       "    <tr>\n",
       "      <th>112</th>\n",
       "      <td>sub-113</td>\n",
       "      <td>NORM</td>\n",
       "      <td>-4.5</td>\n",
       "      <td>3.369252</td>\n",
       "    </tr>\n",
       "    <tr>\n",
       "      <th>113</th>\n",
       "      <td>sub-114</td>\n",
       "      <td>NORM</td>\n",
       "      <td>-4.5</td>\n",
       "      <td>3.847352</td>\n",
       "    </tr>\n",
       "    <tr>\n",
       "      <th>114</th>\n",
       "      <td>sub-115</td>\n",
       "      <td>NORM</td>\n",
       "      <td>-4.5</td>\n",
       "      <td>3.193839</td>\n",
       "    </tr>\n",
       "  </tbody>\n",
       "</table>\n",
       "<p>115 rows × 4 columns</p>\n",
       "</div>"
      ],
      "text/plain": [
       "          id group  eta_limbic  sc_limbic\n",
       "0    sub-001    AD        -4.0   5.037890\n",
       "1    sub-002    AD        -4.0   3.646875\n",
       "2    sub-003    AD        -4.0   2.429534\n",
       "3    sub-004    AD        -4.0   3.482776\n",
       "4    sub-005    AD        -4.0   1.420778\n",
       "..       ...   ...         ...        ...\n",
       "110  sub-111  NORM        -4.5   4.402373\n",
       "111  sub-112  NORM        -4.5   5.075955\n",
       "112  sub-113  NORM        -4.5   3.369252\n",
       "113  sub-114  NORM        -4.5   3.847352\n",
       "114  sub-115  NORM        -4.5   3.193839\n",
       "\n",
       "[115 rows x 4 columns]"
      ]
     },
     "execution_count": 15,
     "metadata": {},
     "output_type": "execute_result"
    }
   ],
   "source": [
    "df = dset.subjects_metadata.reset_index().merge(df, on='id')\n",
    "df"
   ]
  },
  {
   "cell_type": "code",
   "execution_count": 16,
   "id": "1216d661-e46d-4f72-b60a-6026b98fcf9e",
   "metadata": {
    "tags": []
   },
   "outputs": [
    {
     "data": {
      "text/plain": [
       "sc_limbic    Axes(0.125,0.11;0.775x0.77)\n",
       "dtype: object"
      ]
     },
     "execution_count": 16,
     "metadata": {},
     "output_type": "execute_result"
    },
    {
     "data": {
      "image/png": "[encoded data removed]",
      "text/plain": [
       "<Figure size 640x480 with 1 Axes>"
      ]
     },
     "metadata": {},
     "output_type": "display_data"
    }
   ],
   "source": [
    "df.plot(kind='box',by='group', column='sc_limbic')"
   ]
  },
  {
   "cell_type": "markdown",
   "id": "bfbce757-b00a-42aa-b9d8-cb65152ac634",
   "metadata": {},
   "source": [
    "Next we look at the functional data features. We start by defining which data features and summary statistics we want to compute. The distinction between data features and summary statistics is that the summary statistics are scalars, whereas a data feature can be an array of arbitray dimensionality. \n",
    "\n",
    "For example, we compute the FC and FCD *data features*, and summarize them with e.g. strength of the interhemispheric FC connections, and the variablity of FCD. \n",
    "\n",
    "The computation of the data features and the summary statistics is best defined as a function of the time-series:"
   ]
  },
  {
   "cell_type": "code",
   "execution_count": 17,
   "id": "03d6ca5d-b482-485d-b21f-deb95e98f46f",
   "metadata": {
    "tags": []
   },
   "outputs": [],
   "source": [
    "bold = dset.load_bold(subject)"
   ]
  },
  {
   "cell_type": "code",
   "execution_count": 23,
   "id": "85b9c264-d6e9-4a67-a965-9aa9bc0a8bdb",
   "metadata": {
    "tags": []
   },
   "outputs": [],
   "source": [
    "from src.data_features.fc import compute_fcd_roi, compute_fc, fc_stats, fcd_stats"
   ]
  },
  {
   "cell_type": "markdown",
   "id": "1d88f578-9eea-4c7a-9038-fda4487996b4",
   "metadata": {},
   "source": [
    "To get more information on the individual functions, please use the built-in help:"
   ]
  },
  {
   "cell_type": "code",
   "execution_count": 25,
   "id": "da4d6320-beb2-434c-95ff-d8d2df3ba8da",
   "metadata": {
    "tags": []
   },
   "outputs": [
    {
     "name": "stdout",
     "output_type": "stream",
     "text": [
      "Help on function compute_fcd_roi in module src.data_features.fc:\n",
      "\n",
      "compute_fcd_roi(ts, roi_idx, win_len=30, win_sp=1)\n",
      "    Compute dynamic functional connectivity with FC matrix filtered to selected regions.\n",
      "    \n",
      "    Arguments:\n",
      "        ts:       time series of shape [time,nodes]\n",
      "        roi_idx:  binary vector defining the ROI [nodes]\n",
      "        win_len:  sliding window length in samples\n",
      "        win_sp:   sliding window step in samples\n",
      "    Returns:\n",
      "        FCD: matrix of functional connectivity dynamics\n",
      "        fcs: windowed functional connectivity matrices\n",
      "        speed_fcd: rate of changes between FC frames\n",
      "\n"
     ]
    }
   ],
   "source": [
    "help(compute_fcd_roi)"
   ]
  },
  {
   "cell_type": "markdown",
   "id": "3f5b89b3-9ac1-4411-98a7-9b0c7e52c255",
   "metadata": {},
   "source": [
    "Let's pick the functional connectivity, FCD, and their versions filtered to a subnetwork, in this case the limbic regions."
   ]
  },
  {
   "cell_type": "code",
   "execution_count": 44,
   "id": "87c03781-1fdc-49de-b2d3-0fb72c986900",
   "metadata": {
    "tags": []
   },
   "outputs": [],
   "source": [
    "def summary_stats(bold, limbic_id, win_len=30):\n",
    "    \n",
    "    # data features first\n",
    "    FC = compute_fc(bold)\n",
    "    FCD_limbic, fcs, _ = compute_fcd_roi(bold, win_len=win_len, roi_idx=limbic_idx)\n",
    "    \n",
    "    # summary stats\n",
    "    fc_ss = fc_stats(FC)\n",
    "    fcd_ss = fcd_stats(FCD_limbic, fcs, win_len=win_len, prefix='fcd_limbic')\n",
    "    \n",
    "    # concatenate to a single vector\n",
    "    return pd.concat([fc_ss, fcd_ss])"
   ]
  },
  {
   "cell_type": "code",
   "execution_count": 45,
   "id": "626bb374-4b31-4d1c-aeb3-53c42a2a9af7",
   "metadata": {
    "tags": []
   },
   "outputs": [
    {
     "name": "stderr",
     "output_type": "stream",
     "text": [
      "/home/izaak/local_repos/nostromo/virtual_ndd_brain_WT_usecase/env/lib/python3.8/site-packages/numpy/lib/function_base.py:2854: RuntimeWarning: invalid value encountered in divide\n",
      "  c /= stddev[:, None]\n",
      "/home/izaak/local_repos/nostromo/virtual_ndd_brain_WT_usecase/env/lib/python3.8/site-packages/numpy/lib/function_base.py:2855: RuntimeWarning: invalid value encountered in divide\n",
      "  c /= stddev[None, :]\n"
     ]
    },
    {
     "data": {
      "text/plain": [
       "fc_sum                         NaN\n",
       "fc_max                         NaN\n",
       "fc_min                         NaN\n",
       "fc_mean                        NaN\n",
       "fc_std                         NaN\n",
       "fc_q0.05                       NaN\n",
       "fc_q0.25                       NaN\n",
       "fc_q0.5                        NaN\n",
       "fc_q0.75                       NaN\n",
       "fc_q0.95                       NaN\n",
       "fc_homotopic_sum               NaN\n",
       "fc_homotopic_max               NaN\n",
       "fc_homotopic_min               NaN\n",
       "fc_homotopic_mean              NaN\n",
       "fc_homotopic_std               NaN\n",
       "fc_homotopic_q0.05             NaN\n",
       "fc_homotopic_q0.25             NaN\n",
       "fc_homotopic_q0.5              NaN\n",
       "fc_homotopic_q0.75             NaN\n",
       "fc_homotopic_q0.95             NaN\n",
       "fcd_limbic_sum        63579.532837\n",
       "fcd_limbic_max            0.815802\n",
       "fcd_limbic_min            0.000000\n",
       "fcd_limbic_mean           0.195690\n",
       "fcd_limbic_std            0.225013\n",
       "fcd_limbic_q0.05          0.000000\n",
       "fcd_limbic_q0.25          0.000000\n",
       "fcd_limbic_q0.5           0.000000\n",
       "fcd_limbic_q0.75          0.413200\n",
       "fcd_limbic_q0.95          0.553051\n",
       "dtype: float64"
      ]
     },
     "execution_count": 45,
     "metadata": {},
     "output_type": "execute_result"
    }
   ],
   "source": [
    "summary_stats(bold, limbic_idx)"
   ]
  },
  {
   "cell_type": "markdown",
   "id": "b87c6d4b-3b0c-4a18-a070-ce9d6ce5d03d",
   "metadata": {},
   "source": [
    "Now we can apply this to the whole cohort to construct the table of the summary statistics for each subject."
   ]
  },
  {
   "cell_type": "code",
   "execution_count": 46,
   "id": "409e03fb-fde1-4340-bd72-794fec887a7e",
   "metadata": {
    "collapsed": true,
    "jupyter": {
     "outputs_hidden": true
    },
    "tags": []
   },
   "outputs": [
    {
     "name": "stderr",
     "output_type": "stream",
     "text": [
      "/home/izaak/local_repos/nostromo/virtual_ndd_brain_WT_usecase/env/lib/python3.8/site-packages/numpy/lib/function_base.py:2854: RuntimeWarning: invalid value encountered in divide\n",
      "  c /= stddev[:, None]\n",
      "/home/izaak/local_repos/nostromo/virtual_ndd_brain_WT_usecase/env/lib/python3.8/site-packages/numpy/lib/function_base.py:2855: RuntimeWarning: invalid value encountered in divide\n",
      "  c /= stddev[None, :]\n",
      "/home/izaak/local_repos/nostromo/virtual_ndd_brain_WT_usecase/env/lib/python3.8/site-packages/numpy/lib/function_base.py:2854: RuntimeWarning: invalid value encountered in divide\n",
      "  c /= stddev[:, None]\n",
      "/home/izaak/local_repos/nostromo/virtual_ndd_brain_WT_usecase/env/lib/python3.8/site-packages/numpy/lib/function_base.py:2855: RuntimeWarning: invalid value encountered in divide\n",
      "  c /= stddev[None, :]\n",
      "/home/izaak/local_repos/nostromo/virtual_ndd_brain_WT_usecase/env/lib/python3.8/site-packages/numpy/lib/function_base.py:2854: RuntimeWarning: invalid value encountered in divide\n",
      "  c /= stddev[:, None]\n",
      "/home/izaak/local_repos/nostromo/virtual_ndd_brain_WT_usecase/env/lib/python3.8/site-packages/numpy/lib/function_base.py:2855: RuntimeWarning: invalid value encountered in divide\n",
      "  c /= stddev[None, :]\n",
      "/home/izaak/local_repos/nostromo/virtual_ndd_brain_WT_usecase/env/lib/python3.8/site-packages/numpy/lib/function_base.py:2854: RuntimeWarning: invalid value encountered in divide\n",
      "  c /= stddev[:, None]\n",
      "/home/izaak/local_repos/nostromo/virtual_ndd_brain_WT_usecase/env/lib/python3.8/site-packages/numpy/lib/function_base.py:2855: RuntimeWarning: invalid value encountered in divide\n",
      "  c /= stddev[None, :]\n",
      "/home/izaak/local_repos/nostromo/virtual_ndd_brain_WT_usecase/env/lib/python3.8/site-packages/numpy/lib/function_base.py:2854: RuntimeWarning: invalid value encountered in divide\n",
      "  c /= stddev[:, None]\n",
      "/home/izaak/local_repos/nostromo/virtual_ndd_brain_WT_usecase/env/lib/python3.8/site-packages/numpy/lib/function_base.py:2855: RuntimeWarning: invalid value encountered in divide\n",
      "  c /= stddev[None, :]\n",
      "/home/izaak/local_repos/nostromo/virtual_ndd_brain_WT_usecase/env/lib/python3.8/site-packages/numpy/lib/function_base.py:2854: RuntimeWarning: invalid value encountered in divide\n",
      "  c /= stddev[:, None]\n",
      "/home/izaak/local_repos/nostromo/virtual_ndd_brain_WT_usecase/env/lib/python3.8/site-packages/numpy/lib/function_base.py:2855: RuntimeWarning: invalid value encountered in divide\n",
      "  c /= stddev[None, :]\n",
      "/home/izaak/local_repos/nostromo/virtual_ndd_brain_WT_usecase/env/lib/python3.8/site-packages/numpy/lib/function_base.py:2854: RuntimeWarning: invalid value encountered in divide\n",
      "  c /= stddev[:, None]\n",
      "/home/izaak/local_repos/nostromo/virtual_ndd_brain_WT_usecase/env/lib/python3.8/site-packages/numpy/lib/function_base.py:2855: RuntimeWarning: invalid value encountered in divide\n",
      "  c /= stddev[None, :]\n",
      "/home/izaak/local_repos/nostromo/virtual_ndd_brain_WT_usecase/env/lib/python3.8/site-packages/numpy/lib/function_base.py:2854: RuntimeWarning: invalid value encountered in divide\n",
      "  c /= stddev[:, None]\n",
      "/home/izaak/local_repos/nostromo/virtual_ndd_brain_WT_usecase/env/lib/python3.8/site-packages/numpy/lib/function_base.py:2855: RuntimeWarning: invalid value encountered in divide\n",
      "  c /= stddev[None, :]\n",
      "/home/izaak/local_repos/nostromo/virtual_ndd_brain_WT_usecase/env/lib/python3.8/site-packages/numpy/lib/function_base.py:2854: RuntimeWarning: invalid value encountered in divide\n",
      "  c /= stddev[:, None]\n",
      "/home/izaak/local_repos/nostromo/virtual_ndd_brain_WT_usecase/env/lib/python3.8/site-packages/numpy/lib/function_base.py:2855: RuntimeWarning: invalid value encountered in divide\n",
      "  c /= stddev[None, :]\n",
      "/home/izaak/local_repos/nostromo/virtual_ndd_brain_WT_usecase/env/lib/python3.8/site-packages/numpy/lib/function_base.py:2854: RuntimeWarning: invalid value encountered in divide\n",
      "  c /= stddev[:, None]\n",
      "/home/izaak/local_repos/nostromo/virtual_ndd_brain_WT_usecase/env/lib/python3.8/site-packages/numpy/lib/function_base.py:2855: RuntimeWarning: invalid value encountered in divide\n",
      "  c /= stddev[None, :]\n",
      "/home/izaak/local_repos/nostromo/virtual_ndd_brain_WT_usecase/env/lib/python3.8/site-packages/numpy/lib/function_base.py:2854: RuntimeWarning: invalid value encountered in divide\n",
      "  c /= stddev[:, None]\n",
      "/home/izaak/local_repos/nostromo/virtual_ndd_brain_WT_usecase/env/lib/python3.8/site-packages/numpy/lib/function_base.py:2855: RuntimeWarning: invalid value encountered in divide\n",
      "  c /= stddev[None, :]\n",
      "/home/izaak/local_repos/nostromo/virtual_ndd_brain_WT_usecase/env/lib/python3.8/site-packages/numpy/lib/function_base.py:2854: RuntimeWarning: invalid value encountered in divide\n",
      "  c /= stddev[:, None]\n",
      "/home/izaak/local_repos/nostromo/virtual_ndd_brain_WT_usecase/env/lib/python3.8/site-packages/numpy/lib/function_base.py:2855: RuntimeWarning: invalid value encountered in divide\n",
      "  c /= stddev[None, :]\n",
      "/home/izaak/local_repos/nostromo/virtual_ndd_brain_WT_usecase/env/lib/python3.8/site-packages/numpy/lib/function_base.py:2854: RuntimeWarning: invalid value encountered in divide\n",
      "  c /= stddev[:, None]\n",
      "/home/izaak/local_repos/nostromo/virtual_ndd_brain_WT_usecase/env/lib/python3.8/site-packages/numpy/lib/function_base.py:2855: RuntimeWarning: invalid value encountered in divide\n",
      "  c /= stddev[None, :]\n",
      "/home/izaak/local_repos/nostromo/virtual_ndd_brain_WT_usecase/env/lib/python3.8/site-packages/numpy/lib/function_base.py:2854: RuntimeWarning: invalid value encountered in divide\n",
      "  c /= stddev[:, None]\n",
      "/home/izaak/local_repos/nostromo/virtual_ndd_brain_WT_usecase/env/lib/python3.8/site-packages/numpy/lib/function_base.py:2855: RuntimeWarning: invalid value encountered in divide\n",
      "  c /= stddev[None, :]\n",
      "/home/izaak/local_repos/nostromo/virtual_ndd_brain_WT_usecase/env/lib/python3.8/site-packages/numpy/lib/function_base.py:2854: RuntimeWarning: invalid value encountered in divide\n",
      "  c /= stddev[:, None]\n",
      "/home/izaak/local_repos/nostromo/virtual_ndd_brain_WT_usecase/env/lib/python3.8/site-packages/numpy/lib/function_base.py:2855: RuntimeWarning: invalid value encountered in divide\n",
      "  c /= stddev[None, :]\n",
      "/home/izaak/local_repos/nostromo/virtual_ndd_brain_WT_usecase/env/lib/python3.8/site-packages/numpy/lib/function_base.py:2854: RuntimeWarning: invalid value encountered in divide\n",
      "  c /= stddev[:, None]\n",
      "/home/izaak/local_repos/nostromo/virtual_ndd_brain_WT_usecase/env/lib/python3.8/site-packages/numpy/lib/function_base.py:2855: RuntimeWarning: invalid value encountered in divide\n",
      "  c /= stddev[None, :]\n",
      "/home/izaak/local_repos/nostromo/virtual_ndd_brain_WT_usecase/env/lib/python3.8/site-packages/numpy/lib/function_base.py:2854: RuntimeWarning: invalid value encountered in divide\n",
      "  c /= stddev[:, None]\n",
      "/home/izaak/local_repos/nostromo/virtual_ndd_brain_WT_usecase/env/lib/python3.8/site-packages/numpy/lib/function_base.py:2855: RuntimeWarning: invalid value encountered in divide\n",
      "  c /= stddev[None, :]\n",
      "/home/izaak/local_repos/nostromo/virtual_ndd_brain_WT_usecase/env/lib/python3.8/site-packages/numpy/lib/function_base.py:2854: RuntimeWarning: invalid value encountered in divide\n",
      "  c /= stddev[:, None]\n",
      "/home/izaak/local_repos/nostromo/virtual_ndd_brain_WT_usecase/env/lib/python3.8/site-packages/numpy/lib/function_base.py:2855: RuntimeWarning: invalid value encountered in divide\n",
      "  c /= stddev[None, :]\n",
      "/home/izaak/local_repos/nostromo/virtual_ndd_brain_WT_usecase/env/lib/python3.8/site-packages/numpy/lib/function_base.py:2854: RuntimeWarning: invalid value encountered in divide\n",
      "  c /= stddev[:, None]\n",
      "/home/izaak/local_repos/nostromo/virtual_ndd_brain_WT_usecase/env/lib/python3.8/site-packages/numpy/lib/function_base.py:2855: RuntimeWarning: invalid value encountered in divide\n",
      "  c /= stddev[None, :]\n",
      "/home/izaak/local_repos/nostromo/virtual_ndd_brain_WT_usecase/env/lib/python3.8/site-packages/numpy/lib/function_base.py:2854: RuntimeWarning: invalid value encountered in divide\n",
      "  c /= stddev[:, None]\n",
      "/home/izaak/local_repos/nostromo/virtual_ndd_brain_WT_usecase/env/lib/python3.8/site-packages/numpy/lib/function_base.py:2855: RuntimeWarning: invalid value encountered in divide\n",
      "  c /= stddev[None, :]\n",
      "/home/izaak/local_repos/nostromo/virtual_ndd_brain_WT_usecase/env/lib/python3.8/site-packages/numpy/lib/function_base.py:2854: RuntimeWarning: invalid value encountered in divide\n",
      "  c /= stddev[:, None]\n",
      "/home/izaak/local_repos/nostromo/virtual_ndd_brain_WT_usecase/env/lib/python3.8/site-packages/numpy/lib/function_base.py:2855: RuntimeWarning: invalid value encountered in divide\n",
      "  c /= stddev[None, :]\n",
      "/home/izaak/local_repos/nostromo/virtual_ndd_brain_WT_usecase/env/lib/python3.8/site-packages/numpy/lib/function_base.py:2854: RuntimeWarning: invalid value encountered in divide\n",
      "  c /= stddev[:, None]\n",
      "/home/izaak/local_repos/nostromo/virtual_ndd_brain_WT_usecase/env/lib/python3.8/site-packages/numpy/lib/function_base.py:2855: RuntimeWarning: invalid value encountered in divide\n",
      "  c /= stddev[None, :]\n",
      "/home/izaak/local_repos/nostromo/virtual_ndd_brain_WT_usecase/env/lib/python3.8/site-packages/numpy/lib/function_base.py:2854: RuntimeWarning: invalid value encountered in divide\n",
      "  c /= stddev[:, None]\n",
      "/home/izaak/local_repos/nostromo/virtual_ndd_brain_WT_usecase/env/lib/python3.8/site-packages/numpy/lib/function_base.py:2855: RuntimeWarning: invalid value encountered in divide\n",
      "  c /= stddev[None, :]\n",
      "/home/izaak/local_repos/nostromo/virtual_ndd_brain_WT_usecase/env/lib/python3.8/site-packages/numpy/lib/function_base.py:2854: RuntimeWarning: invalid value encountered in divide\n",
      "  c /= stddev[:, None]\n",
      "/home/izaak/local_repos/nostromo/virtual_ndd_brain_WT_usecase/env/lib/python3.8/site-packages/numpy/lib/function_base.py:2855: RuntimeWarning: invalid value encountered in divide\n",
      "  c /= stddev[None, :]\n",
      "/home/izaak/local_repos/nostromo/virtual_ndd_brain_WT_usecase/env/lib/python3.8/site-packages/numpy/lib/function_base.py:2854: RuntimeWarning: invalid value encountered in divide\n",
      "  c /= stddev[:, None]\n",
      "/home/izaak/local_repos/nostromo/virtual_ndd_brain_WT_usecase/env/lib/python3.8/site-packages/numpy/lib/function_base.py:2855: RuntimeWarning: invalid value encountered in divide\n",
      "  c /= stddev[None, :]\n",
      "/home/izaak/local_repos/nostromo/virtual_ndd_brain_WT_usecase/env/lib/python3.8/site-packages/numpy/lib/function_base.py:2854: RuntimeWarning: invalid value encountered in divide\n",
      "  c /= stddev[:, None]\n",
      "/home/izaak/local_repos/nostromo/virtual_ndd_brain_WT_usecase/env/lib/python3.8/site-packages/numpy/lib/function_base.py:2855: RuntimeWarning: invalid value encountered in divide\n",
      "  c /= stddev[None, :]\n",
      "/home/izaak/local_repos/nostromo/virtual_ndd_brain_WT_usecase/env/lib/python3.8/site-packages/numpy/lib/function_base.py:2854: RuntimeWarning: invalid value encountered in divide\n",
      "  c /= stddev[:, None]\n",
      "/home/izaak/local_repos/nostromo/virtual_ndd_brain_WT_usecase/env/lib/python3.8/site-packages/numpy/lib/function_base.py:2855: RuntimeWarning: invalid value encountered in divide\n",
      "  c /= stddev[None, :]\n",
      "/home/izaak/local_repos/nostromo/virtual_ndd_brain_WT_usecase/env/lib/python3.8/site-packages/numpy/lib/function_base.py:2854: RuntimeWarning: invalid value encountered in divide\n",
      "  c /= stddev[:, None]\n",
      "/home/izaak/local_repos/nostromo/virtual_ndd_brain_WT_usecase/env/lib/python3.8/site-packages/numpy/lib/function_base.py:2855: RuntimeWarning: invalid value encountered in divide\n",
      "  c /= stddev[None, :]\n",
      "/home/izaak/local_repos/nostromo/virtual_ndd_brain_WT_usecase/env/lib/python3.8/site-packages/numpy/lib/function_base.py:2854: RuntimeWarning: invalid value encountered in divide\n",
      "  c /= stddev[:, None]\n",
      "/home/izaak/local_repos/nostromo/virtual_ndd_brain_WT_usecase/env/lib/python3.8/site-packages/numpy/lib/function_base.py:2855: RuntimeWarning: invalid value encountered in divide\n",
      "  c /= stddev[None, :]\n",
      "/home/izaak/local_repos/nostromo/virtual_ndd_brain_WT_usecase/env/lib/python3.8/site-packages/numpy/lib/function_base.py:2854: RuntimeWarning: invalid value encountered in divide\n",
      "  c /= stddev[:, None]\n",
      "/home/izaak/local_repos/nostromo/virtual_ndd_brain_WT_usecase/env/lib/python3.8/site-packages/numpy/lib/function_base.py:2855: RuntimeWarning: invalid value encountered in divide\n",
      "  c /= stddev[None, :]\n",
      "/home/izaak/local_repos/nostromo/virtual_ndd_brain_WT_usecase/env/lib/python3.8/site-packages/numpy/lib/function_base.py:2854: RuntimeWarning: invalid value encountered in divide\n",
      "  c /= stddev[:, None]\n",
      "/home/izaak/local_repos/nostromo/virtual_ndd_brain_WT_usecase/env/lib/python3.8/site-packages/numpy/lib/function_base.py:2855: RuntimeWarning: invalid value encountered in divide\n",
      "  c /= stddev[None, :]\n",
      "/home/izaak/local_repos/nostromo/virtual_ndd_brain_WT_usecase/env/lib/python3.8/site-packages/numpy/lib/function_base.py:2854: RuntimeWarning: invalid value encountered in divide\n",
      "  c /= stddev[:, None]\n",
      "/home/izaak/local_repos/nostromo/virtual_ndd_brain_WT_usecase/env/lib/python3.8/site-packages/numpy/lib/function_base.py:2855: RuntimeWarning: invalid value encountered in divide\n",
      "  c /= stddev[None, :]\n",
      "/home/izaak/local_repos/nostromo/virtual_ndd_brain_WT_usecase/env/lib/python3.8/site-packages/numpy/lib/function_base.py:2854: RuntimeWarning: invalid value encountered in divide\n",
      "  c /= stddev[:, None]\n",
      "/home/izaak/local_repos/nostromo/virtual_ndd_brain_WT_usecase/env/lib/python3.8/site-packages/numpy/lib/function_base.py:2855: RuntimeWarning: invalid value encountered in divide\n",
      "  c /= stddev[None, :]\n",
      "/home/izaak/local_repos/nostromo/virtual_ndd_brain_WT_usecase/env/lib/python3.8/site-packages/numpy/lib/function_base.py:2854: RuntimeWarning: invalid value encountered in divide\n",
      "  c /= stddev[:, None]\n",
      "/home/izaak/local_repos/nostromo/virtual_ndd_brain_WT_usecase/env/lib/python3.8/site-packages/numpy/lib/function_base.py:2855: RuntimeWarning: invalid value encountered in divide\n",
      "  c /= stddev[None, :]\n",
      "/home/izaak/local_repos/nostromo/virtual_ndd_brain_WT_usecase/env/lib/python3.8/site-packages/numpy/lib/function_base.py:2854: RuntimeWarning: invalid value encountered in divide\n",
      "  c /= stddev[:, None]\n",
      "/home/izaak/local_repos/nostromo/virtual_ndd_brain_WT_usecase/env/lib/python3.8/site-packages/numpy/lib/function_base.py:2855: RuntimeWarning: invalid value encountered in divide\n",
      "  c /= stddev[None, :]\n",
      "/home/izaak/local_repos/nostromo/virtual_ndd_brain_WT_usecase/env/lib/python3.8/site-packages/numpy/lib/function_base.py:2854: RuntimeWarning: invalid value encountered in divide\n",
      "  c /= stddev[:, None]\n",
      "/home/izaak/local_repos/nostromo/virtual_ndd_brain_WT_usecase/env/lib/python3.8/site-packages/numpy/lib/function_base.py:2855: RuntimeWarning: invalid value encountered in divide\n",
      "  c /= stddev[None, :]\n",
      "/home/izaak/local_repos/nostromo/virtual_ndd_brain_WT_usecase/env/lib/python3.8/site-packages/numpy/lib/function_base.py:2854: RuntimeWarning: invalid value encountered in divide\n",
      "  c /= stddev[:, None]\n",
      "/home/izaak/local_repos/nostromo/virtual_ndd_brain_WT_usecase/env/lib/python3.8/site-packages/numpy/lib/function_base.py:2855: RuntimeWarning: invalid value encountered in divide\n",
      "  c /= stddev[None, :]\n",
      "/home/izaak/local_repos/nostromo/virtual_ndd_brain_WT_usecase/env/lib/python3.8/site-packages/numpy/lib/function_base.py:2854: RuntimeWarning: invalid value encountered in divide\n",
      "  c /= stddev[:, None]\n",
      "/home/izaak/local_repos/nostromo/virtual_ndd_brain_WT_usecase/env/lib/python3.8/site-packages/numpy/lib/function_base.py:2855: RuntimeWarning: invalid value encountered in divide\n",
      "  c /= stddev[None, :]\n",
      "/home/izaak/local_repos/nostromo/virtual_ndd_brain_WT_usecase/env/lib/python3.8/site-packages/numpy/lib/function_base.py:2854: RuntimeWarning: invalid value encountered in divide\n",
      "  c /= stddev[:, None]\n",
      "/home/izaak/local_repos/nostromo/virtual_ndd_brain_WT_usecase/env/lib/python3.8/site-packages/numpy/lib/function_base.py:2855: RuntimeWarning: invalid value encountered in divide\n",
      "  c /= stddev[None, :]\n",
      "/home/izaak/local_repos/nostromo/virtual_ndd_brain_WT_usecase/env/lib/python3.8/site-packages/numpy/lib/function_base.py:2854: RuntimeWarning: invalid value encountered in divide\n",
      "  c /= stddev[:, None]\n",
      "/home/izaak/local_repos/nostromo/virtual_ndd_brain_WT_usecase/env/lib/python3.8/site-packages/numpy/lib/function_base.py:2855: RuntimeWarning: invalid value encountered in divide\n",
      "  c /= stddev[None, :]\n",
      "/home/izaak/local_repos/nostromo/virtual_ndd_brain_WT_usecase/env/lib/python3.8/site-packages/numpy/lib/function_base.py:2854: RuntimeWarning: invalid value encountered in divide\n",
      "  c /= stddev[:, None]\n",
      "/home/izaak/local_repos/nostromo/virtual_ndd_brain_WT_usecase/env/lib/python3.8/site-packages/numpy/lib/function_base.py:2855: RuntimeWarning: invalid value encountered in divide\n",
      "  c /= stddev[None, :]\n",
      "/home/izaak/local_repos/nostromo/virtual_ndd_brain_WT_usecase/env/lib/python3.8/site-packages/numpy/lib/function_base.py:2854: RuntimeWarning: invalid value encountered in divide\n",
      "  c /= stddev[:, None]\n",
      "/home/izaak/local_repos/nostromo/virtual_ndd_brain_WT_usecase/env/lib/python3.8/site-packages/numpy/lib/function_base.py:2855: RuntimeWarning: invalid value encountered in divide\n",
      "  c /= stddev[None, :]\n",
      "/home/izaak/local_repos/nostromo/virtual_ndd_brain_WT_usecase/env/lib/python3.8/site-packages/numpy/lib/function_base.py:2854: RuntimeWarning: invalid value encountered in divide\n",
      "  c /= stddev[:, None]\n",
      "/home/izaak/local_repos/nostromo/virtual_ndd_brain_WT_usecase/env/lib/python3.8/site-packages/numpy/lib/function_base.py:2855: RuntimeWarning: invalid value encountered in divide\n",
      "  c /= stddev[None, :]\n",
      "/home/izaak/local_repos/nostromo/virtual_ndd_brain_WT_usecase/env/lib/python3.8/site-packages/numpy/lib/function_base.py:2854: RuntimeWarning: invalid value encountered in divide\n",
      "  c /= stddev[:, None]\n",
      "/home/izaak/local_repos/nostromo/virtual_ndd_brain_WT_usecase/env/lib/python3.8/site-packages/numpy/lib/function_base.py:2855: RuntimeWarning: invalid value encountered in divide\n",
      "  c /= stddev[None, :]\n",
      "/home/izaak/local_repos/nostromo/virtual_ndd_brain_WT_usecase/env/lib/python3.8/site-packages/numpy/lib/function_base.py:2854: RuntimeWarning: invalid value encountered in divide\n",
      "  c /= stddev[:, None]\n",
      "/home/izaak/local_repos/nostromo/virtual_ndd_brain_WT_usecase/env/lib/python3.8/site-packages/numpy/lib/function_base.py:2855: RuntimeWarning: invalid value encountered in divide\n",
      "  c /= stddev[None, :]\n",
      "/home/izaak/local_repos/nostromo/virtual_ndd_brain_WT_usecase/env/lib/python3.8/site-packages/numpy/lib/function_base.py:2854: RuntimeWarning: invalid value encountered in divide\n",
      "  c /= stddev[:, None]\n",
      "/home/izaak/local_repos/nostromo/virtual_ndd_brain_WT_usecase/env/lib/python3.8/site-packages/numpy/lib/function_base.py:2855: RuntimeWarning: invalid value encountered in divide\n",
      "  c /= stddev[None, :]\n",
      "/home/izaak/local_repos/nostromo/virtual_ndd_brain_WT_usecase/env/lib/python3.8/site-packages/numpy/lib/function_base.py:2854: RuntimeWarning: invalid value encountered in divide\n",
      "  c /= stddev[:, None]\n",
      "/home/izaak/local_repos/nostromo/virtual_ndd_brain_WT_usecase/env/lib/python3.8/site-packages/numpy/lib/function_base.py:2855: RuntimeWarning: invalid value encountered in divide\n",
      "  c /= stddev[None, :]\n",
      "/home/izaak/local_repos/nostromo/virtual_ndd_brain_WT_usecase/env/lib/python3.8/site-packages/numpy/lib/function_base.py:2854: RuntimeWarning: invalid value encountered in divide\n",
      "  c /= stddev[:, None]\n",
      "/home/izaak/local_repos/nostromo/virtual_ndd_brain_WT_usecase/env/lib/python3.8/site-packages/numpy/lib/function_base.py:2855: RuntimeWarning: invalid value encountered in divide\n",
      "  c /= stddev[None, :]\n",
      "/home/izaak/local_repos/nostromo/virtual_ndd_brain_WT_usecase/env/lib/python3.8/site-packages/numpy/lib/function_base.py:2854: RuntimeWarning: invalid value encountered in divide\n",
      "  c /= stddev[:, None]\n",
      "/home/izaak/local_repos/nostromo/virtual_ndd_brain_WT_usecase/env/lib/python3.8/site-packages/numpy/lib/function_base.py:2855: RuntimeWarning: invalid value encountered in divide\n",
      "  c /= stddev[None, :]\n",
      "/home/izaak/local_repos/nostromo/virtual_ndd_brain_WT_usecase/env/lib/python3.8/site-packages/numpy/lib/function_base.py:2854: RuntimeWarning: invalid value encountered in divide\n",
      "  c /= stddev[:, None]\n",
      "/home/izaak/local_repos/nostromo/virtual_ndd_brain_WT_usecase/env/lib/python3.8/site-packages/numpy/lib/function_base.py:2855: RuntimeWarning: invalid value encountered in divide\n",
      "  c /= stddev[None, :]\n",
      "/home/izaak/local_repos/nostromo/virtual_ndd_brain_WT_usecase/env/lib/python3.8/site-packages/numpy/lib/function_base.py:2854: RuntimeWarning: invalid value encountered in divide\n",
      "  c /= stddev[:, None]\n",
      "/home/izaak/local_repos/nostromo/virtual_ndd_brain_WT_usecase/env/lib/python3.8/site-packages/numpy/lib/function_base.py:2855: RuntimeWarning: invalid value encountered in divide\n",
      "  c /= stddev[None, :]\n",
      "/home/izaak/local_repos/nostromo/virtual_ndd_brain_WT_usecase/env/lib/python3.8/site-packages/numpy/lib/function_base.py:2854: RuntimeWarning: invalid value encountered in divide\n",
      "  c /= stddev[:, None]\n",
      "/home/izaak/local_repos/nostromo/virtual_ndd_brain_WT_usecase/env/lib/python3.8/site-packages/numpy/lib/function_base.py:2855: RuntimeWarning: invalid value encountered in divide\n",
      "  c /= stddev[None, :]\n",
      "/home/izaak/local_repos/nostromo/virtual_ndd_brain_WT_usecase/env/lib/python3.8/site-packages/numpy/lib/function_base.py:2854: RuntimeWarning: invalid value encountered in divide\n",
      "  c /= stddev[:, None]\n",
      "/home/izaak/local_repos/nostromo/virtual_ndd_brain_WT_usecase/env/lib/python3.8/site-packages/numpy/lib/function_base.py:2855: RuntimeWarning: invalid value encountered in divide\n",
      "  c /= stddev[None, :]\n",
      "/home/izaak/local_repos/nostromo/virtual_ndd_brain_WT_usecase/env/lib/python3.8/site-packages/numpy/lib/function_base.py:2854: RuntimeWarning: invalid value encountered in divide\n",
      "  c /= stddev[:, None]\n",
      "/home/izaak/local_repos/nostromo/virtual_ndd_brain_WT_usecase/env/lib/python3.8/site-packages/numpy/lib/function_base.py:2855: RuntimeWarning: invalid value encountered in divide\n",
      "  c /= stddev[None, :]\n",
      "/home/izaak/local_repos/nostromo/virtual_ndd_brain_WT_usecase/env/lib/python3.8/site-packages/numpy/lib/function_base.py:2854: RuntimeWarning: invalid value encountered in divide\n",
      "  c /= stddev[:, None]\n",
      "/home/izaak/local_repos/nostromo/virtual_ndd_brain_WT_usecase/env/lib/python3.8/site-packages/numpy/lib/function_base.py:2855: RuntimeWarning: invalid value encountered in divide\n",
      "  c /= stddev[None, :]\n",
      "/home/izaak/local_repos/nostromo/virtual_ndd_brain_WT_usecase/env/lib/python3.8/site-packages/numpy/lib/function_base.py:2854: RuntimeWarning: invalid value encountered in divide\n",
      "  c /= stddev[:, None]\n",
      "/home/izaak/local_repos/nostromo/virtual_ndd_brain_WT_usecase/env/lib/python3.8/site-packages/numpy/lib/function_base.py:2855: RuntimeWarning: invalid value encountered in divide\n",
      "  c /= stddev[None, :]\n",
      "/home/izaak/local_repos/nostromo/virtual_ndd_brain_WT_usecase/env/lib/python3.8/site-packages/numpy/lib/function_base.py:2854: RuntimeWarning: invalid value encountered in divide\n",
      "  c /= stddev[:, None]\n",
      "/home/izaak/local_repos/nostromo/virtual_ndd_brain_WT_usecase/env/lib/python3.8/site-packages/numpy/lib/function_base.py:2855: RuntimeWarning: invalid value encountered in divide\n",
      "  c /= stddev[None, :]\n",
      "/home/izaak/local_repos/nostromo/virtual_ndd_brain_WT_usecase/env/lib/python3.8/site-packages/numpy/lib/function_base.py:2854: RuntimeWarning: invalid value encountered in divide\n",
      "  c /= stddev[:, None]\n",
      "/home/izaak/local_repos/nostromo/virtual_ndd_brain_WT_usecase/env/lib/python3.8/site-packages/numpy/lib/function_base.py:2855: RuntimeWarning: invalid value encountered in divide\n",
      "  c /= stddev[None, :]\n",
      "/home/izaak/local_repos/nostromo/virtual_ndd_brain_WT_usecase/env/lib/python3.8/site-packages/numpy/lib/function_base.py:2854: RuntimeWarning: invalid value encountered in divide\n",
      "  c /= stddev[:, None]\n",
      "/home/izaak/local_repos/nostromo/virtual_ndd_brain_WT_usecase/env/lib/python3.8/site-packages/numpy/lib/function_base.py:2855: RuntimeWarning: invalid value encountered in divide\n",
      "  c /= stddev[None, :]\n",
      "/home/izaak/local_repos/nostromo/virtual_ndd_brain_WT_usecase/env/lib/python3.8/site-packages/numpy/lib/function_base.py:2854: RuntimeWarning: invalid value encountered in divide\n",
      "  c /= stddev[:, None]\n",
      "/home/izaak/local_repos/nostromo/virtual_ndd_brain_WT_usecase/env/lib/python3.8/site-packages/numpy/lib/function_base.py:2855: RuntimeWarning: invalid value encountered in divide\n",
      "  c /= stddev[None, :]\n",
      "/home/izaak/local_repos/nostromo/virtual_ndd_brain_WT_usecase/env/lib/python3.8/site-packages/numpy/lib/function_base.py:2854: RuntimeWarning: invalid value encountered in divide\n",
      "  c /= stddev[:, None]\n",
      "/home/izaak/local_repos/nostromo/virtual_ndd_brain_WT_usecase/env/lib/python3.8/site-packages/numpy/lib/function_base.py:2855: RuntimeWarning: invalid value encountered in divide\n",
      "  c /= stddev[None, :]\n",
      "/home/izaak/local_repos/nostromo/virtual_ndd_brain_WT_usecase/env/lib/python3.8/site-packages/numpy/lib/function_base.py:2854: RuntimeWarning: invalid value encountered in divide\n",
      "  c /= stddev[:, None]\n",
      "/home/izaak/local_repos/nostromo/virtual_ndd_brain_WT_usecase/env/lib/python3.8/site-packages/numpy/lib/function_base.py:2855: RuntimeWarning: invalid value encountered in divide\n",
      "  c /= stddev[None, :]\n",
      "/home/izaak/local_repos/nostromo/virtual_ndd_brain_WT_usecase/env/lib/python3.8/site-packages/numpy/lib/function_base.py:2854: RuntimeWarning: invalid value encountered in divide\n",
      "  c /= stddev[:, None]\n",
      "/home/izaak/local_repos/nostromo/virtual_ndd_brain_WT_usecase/env/lib/python3.8/site-packages/numpy/lib/function_base.py:2855: RuntimeWarning: invalid value encountered in divide\n",
      "  c /= stddev[None, :]\n",
      "/home/izaak/local_repos/nostromo/virtual_ndd_brain_WT_usecase/env/lib/python3.8/site-packages/numpy/lib/function_base.py:2854: RuntimeWarning: invalid value encountered in divide\n",
      "  c /= stddev[:, None]\n",
      "/home/izaak/local_repos/nostromo/virtual_ndd_brain_WT_usecase/env/lib/python3.8/site-packages/numpy/lib/function_base.py:2855: RuntimeWarning: invalid value encountered in divide\n",
      "  c /= stddev[None, :]\n",
      "/home/izaak/local_repos/nostromo/virtual_ndd_brain_WT_usecase/env/lib/python3.8/site-packages/numpy/lib/function_base.py:2854: RuntimeWarning: invalid value encountered in divide\n",
      "  c /= stddev[:, None]\n",
      "/home/izaak/local_repos/nostromo/virtual_ndd_brain_WT_usecase/env/lib/python3.8/site-packages/numpy/lib/function_base.py:2855: RuntimeWarning: invalid value encountered in divide\n",
      "  c /= stddev[None, :]\n",
      "/home/izaak/local_repos/nostromo/virtual_ndd_brain_WT_usecase/env/lib/python3.8/site-packages/numpy/lib/function_base.py:2854: RuntimeWarning: invalid value encountered in divide\n",
      "  c /= stddev[:, None]\n",
      "/home/izaak/local_repos/nostromo/virtual_ndd_brain_WT_usecase/env/lib/python3.8/site-packages/numpy/lib/function_base.py:2855: RuntimeWarning: invalid value encountered in divide\n",
      "  c /= stddev[None, :]\n",
      "/home/izaak/local_repos/nostromo/virtual_ndd_brain_WT_usecase/env/lib/python3.8/site-packages/numpy/lib/function_base.py:2854: RuntimeWarning: invalid value encountered in divide\n",
      "  c /= stddev[:, None]\n",
      "/home/izaak/local_repos/nostromo/virtual_ndd_brain_WT_usecase/env/lib/python3.8/site-packages/numpy/lib/function_base.py:2855: RuntimeWarning: invalid value encountered in divide\n",
      "  c /= stddev[None, :]\n",
      "/home/izaak/local_repos/nostromo/virtual_ndd_brain_WT_usecase/env/lib/python3.8/site-packages/numpy/lib/function_base.py:2854: RuntimeWarning: invalid value encountered in divide\n",
      "  c /= stddev[:, None]\n",
      "/home/izaak/local_repos/nostromo/virtual_ndd_brain_WT_usecase/env/lib/python3.8/site-packages/numpy/lib/function_base.py:2855: RuntimeWarning: invalid value encountered in divide\n",
      "  c /= stddev[None, :]\n",
      "/home/izaak/local_repos/nostromo/virtual_ndd_brain_WT_usecase/env/lib/python3.8/site-packages/numpy/lib/function_base.py:2854: RuntimeWarning: invalid value encountered in divide\n",
      "  c /= stddev[:, None]\n",
      "/home/izaak/local_repos/nostromo/virtual_ndd_brain_WT_usecase/env/lib/python3.8/site-packages/numpy/lib/function_base.py:2855: RuntimeWarning: invalid value encountered in divide\n",
      "  c /= stddev[None, :]\n",
      "/home/izaak/local_repos/nostromo/virtual_ndd_brain_WT_usecase/env/lib/python3.8/site-packages/numpy/lib/function_base.py:2854: RuntimeWarning: invalid value encountered in divide\n",
      "  c /= stddev[:, None]\n",
      "/home/izaak/local_repos/nostromo/virtual_ndd_brain_WT_usecase/env/lib/python3.8/site-packages/numpy/lib/function_base.py:2855: RuntimeWarning: invalid value encountered in divide\n",
      "  c /= stddev[None, :]\n",
      "/home/izaak/local_repos/nostromo/virtual_ndd_brain_WT_usecase/env/lib/python3.8/site-packages/numpy/lib/function_base.py:2854: RuntimeWarning: invalid value encountered in divide\n",
      "  c /= stddev[:, None]\n",
      "/home/izaak/local_repos/nostromo/virtual_ndd_brain_WT_usecase/env/lib/python3.8/site-packages/numpy/lib/function_base.py:2855: RuntimeWarning: invalid value encountered in divide\n",
      "  c /= stddev[None, :]\n",
      "/home/izaak/local_repos/nostromo/virtual_ndd_brain_WT_usecase/env/lib/python3.8/site-packages/numpy/lib/function_base.py:2854: RuntimeWarning: invalid value encountered in divide\n",
      "  c /= stddev[:, None]\n",
      "/home/izaak/local_repos/nostromo/virtual_ndd_brain_WT_usecase/env/lib/python3.8/site-packages/numpy/lib/function_base.py:2855: RuntimeWarning: invalid value encountered in divide\n",
      "  c /= stddev[None, :]\n",
      "/home/izaak/local_repos/nostromo/virtual_ndd_brain_WT_usecase/env/lib/python3.8/site-packages/numpy/lib/function_base.py:2854: RuntimeWarning: invalid value encountered in divide\n",
      "  c /= stddev[:, None]\n",
      "/home/izaak/local_repos/nostromo/virtual_ndd_brain_WT_usecase/env/lib/python3.8/site-packages/numpy/lib/function_base.py:2855: RuntimeWarning: invalid value encountered in divide\n",
      "  c /= stddev[None, :]\n",
      "/home/izaak/local_repos/nostromo/virtual_ndd_brain_WT_usecase/env/lib/python3.8/site-packages/numpy/lib/function_base.py:2854: RuntimeWarning: invalid value encountered in divide\n",
      "  c /= stddev[:, None]\n",
      "/home/izaak/local_repos/nostromo/virtual_ndd_brain_WT_usecase/env/lib/python3.8/site-packages/numpy/lib/function_base.py:2855: RuntimeWarning: invalid value encountered in divide\n",
      "  c /= stddev[None, :]\n",
      "/home/izaak/local_repos/nostromo/virtual_ndd_brain_WT_usecase/env/lib/python3.8/site-packages/numpy/lib/function_base.py:2854: RuntimeWarning: invalid value encountered in divide\n",
      "  c /= stddev[:, None]\n",
      "/home/izaak/local_repos/nostromo/virtual_ndd_brain_WT_usecase/env/lib/python3.8/site-packages/numpy/lib/function_base.py:2855: RuntimeWarning: invalid value encountered in divide\n",
      "  c /= stddev[None, :]\n",
      "/home/izaak/local_repos/nostromo/virtual_ndd_brain_WT_usecase/env/lib/python3.8/site-packages/numpy/lib/function_base.py:2854: RuntimeWarning: invalid value encountered in divide\n",
      "  c /= stddev[:, None]\n",
      "/home/izaak/local_repos/nostromo/virtual_ndd_brain_WT_usecase/env/lib/python3.8/site-packages/numpy/lib/function_base.py:2855: RuntimeWarning: invalid value encountered in divide\n",
      "  c /= stddev[None, :]\n",
      "/home/izaak/local_repos/nostromo/virtual_ndd_brain_WT_usecase/env/lib/python3.8/site-packages/numpy/lib/function_base.py:2854: RuntimeWarning: invalid value encountered in divide\n",
      "  c /= stddev[:, None]\n",
      "/home/izaak/local_repos/nostromo/virtual_ndd_brain_WT_usecase/env/lib/python3.8/site-packages/numpy/lib/function_base.py:2855: RuntimeWarning: invalid value encountered in divide\n",
      "  c /= stddev[None, :]\n",
      "/home/izaak/local_repos/nostromo/virtual_ndd_brain_WT_usecase/env/lib/python3.8/site-packages/numpy/lib/function_base.py:2854: RuntimeWarning: invalid value encountered in divide\n",
      "  c /= stddev[:, None]\n",
      "/home/izaak/local_repos/nostromo/virtual_ndd_brain_WT_usecase/env/lib/python3.8/site-packages/numpy/lib/function_base.py:2855: RuntimeWarning: invalid value encountered in divide\n",
      "  c /= stddev[None, :]\n",
      "/home/izaak/local_repos/nostromo/virtual_ndd_brain_WT_usecase/env/lib/python3.8/site-packages/numpy/lib/function_base.py:2854: RuntimeWarning: invalid value encountered in divide\n",
      "  c /= stddev[:, None]\n",
      "/home/izaak/local_repos/nostromo/virtual_ndd_brain_WT_usecase/env/lib/python3.8/site-packages/numpy/lib/function_base.py:2855: RuntimeWarning: invalid value encountered in divide\n",
      "  c /= stddev[None, :]\n",
      "/home/izaak/local_repos/nostromo/virtual_ndd_brain_WT_usecase/env/lib/python3.8/site-packages/numpy/lib/function_base.py:2854: RuntimeWarning: invalid value encountered in divide\n",
      "  c /= stddev[:, None]\n",
      "/home/izaak/local_repos/nostromo/virtual_ndd_brain_WT_usecase/env/lib/python3.8/site-packages/numpy/lib/function_base.py:2855: RuntimeWarning: invalid value encountered in divide\n",
      "  c /= stddev[None, :]\n",
      "/home/izaak/local_repos/nostromo/virtual_ndd_brain_WT_usecase/env/lib/python3.8/site-packages/numpy/lib/function_base.py:2854: RuntimeWarning: invalid value encountered in divide\n",
      "  c /= stddev[:, None]\n",
      "/home/izaak/local_repos/nostromo/virtual_ndd_brain_WT_usecase/env/lib/python3.8/site-packages/numpy/lib/function_base.py:2855: RuntimeWarning: invalid value encountered in divide\n",
      "  c /= stddev[None, :]\n",
      "/home/izaak/local_repos/nostromo/virtual_ndd_brain_WT_usecase/env/lib/python3.8/site-packages/numpy/lib/function_base.py:2854: RuntimeWarning: invalid value encountered in divide\n",
      "  c /= stddev[:, None]\n",
      "/home/izaak/local_repos/nostromo/virtual_ndd_brain_WT_usecase/env/lib/python3.8/site-packages/numpy/lib/function_base.py:2855: RuntimeWarning: invalid value encountered in divide\n",
      "  c /= stddev[None, :]\n",
      "/home/izaak/local_repos/nostromo/virtual_ndd_brain_WT_usecase/env/lib/python3.8/site-packages/numpy/lib/function_base.py:2854: RuntimeWarning: invalid value encountered in divide\n",
      "  c /= stddev[:, None]\n",
      "/home/izaak/local_repos/nostromo/virtual_ndd_brain_WT_usecase/env/lib/python3.8/site-packages/numpy/lib/function_base.py:2855: RuntimeWarning: invalid value encountered in divide\n",
      "  c /= stddev[None, :]\n",
      "/home/izaak/local_repos/nostromo/virtual_ndd_brain_WT_usecase/env/lib/python3.8/site-packages/numpy/lib/function_base.py:2854: RuntimeWarning: invalid value encountered in divide\n",
      "  c /= stddev[:, None]\n",
      "/home/izaak/local_repos/nostromo/virtual_ndd_brain_WT_usecase/env/lib/python3.8/site-packages/numpy/lib/function_base.py:2855: RuntimeWarning: invalid value encountered in divide\n",
      "  c /= stddev[None, :]\n",
      "/home/izaak/local_repos/nostromo/virtual_ndd_brain_WT_usecase/env/lib/python3.8/site-packages/numpy/lib/function_base.py:2854: RuntimeWarning: invalid value encountered in divide\n",
      "  c /= stddev[:, None]\n",
      "/home/izaak/local_repos/nostromo/virtual_ndd_brain_WT_usecase/env/lib/python3.8/site-packages/numpy/lib/function_base.py:2855: RuntimeWarning: invalid value encountered in divide\n",
      "  c /= stddev[None, :]\n",
      "/home/izaak/local_repos/nostromo/virtual_ndd_brain_WT_usecase/env/lib/python3.8/site-packages/numpy/lib/function_base.py:2854: RuntimeWarning: invalid value encountered in divide\n",
      "  c /= stddev[:, None]\n",
      "/home/izaak/local_repos/nostromo/virtual_ndd_brain_WT_usecase/env/lib/python3.8/site-packages/numpy/lib/function_base.py:2855: RuntimeWarning: invalid value encountered in divide\n",
      "  c /= stddev[None, :]\n",
      "/home/izaak/local_repos/nostromo/virtual_ndd_brain_WT_usecase/env/lib/python3.8/site-packages/numpy/lib/function_base.py:2854: RuntimeWarning: invalid value encountered in divide\n",
      "  c /= stddev[:, None]\n",
      "/home/izaak/local_repos/nostromo/virtual_ndd_brain_WT_usecase/env/lib/python3.8/site-packages/numpy/lib/function_base.py:2855: RuntimeWarning: invalid value encountered in divide\n",
      "  c /= stddev[None, :]\n",
      "/home/izaak/local_repos/nostromo/virtual_ndd_brain_WT_usecase/env/lib/python3.8/site-packages/numpy/lib/function_base.py:2854: RuntimeWarning: invalid value encountered in divide\n",
      "  c /= stddev[:, None]\n",
      "/home/izaak/local_repos/nostromo/virtual_ndd_brain_WT_usecase/env/lib/python3.8/site-packages/numpy/lib/function_base.py:2855: RuntimeWarning: invalid value encountered in divide\n",
      "  c /= stddev[None, :]\n",
      "/home/izaak/local_repos/nostromo/virtual_ndd_brain_WT_usecase/env/lib/python3.8/site-packages/numpy/lib/function_base.py:2854: RuntimeWarning: invalid value encountered in divide\n",
      "  c /= stddev[:, None]\n",
      "/home/izaak/local_repos/nostromo/virtual_ndd_brain_WT_usecase/env/lib/python3.8/site-packages/numpy/lib/function_base.py:2855: RuntimeWarning: invalid value encountered in divide\n",
      "  c /= stddev[None, :]\n",
      "/home/izaak/local_repos/nostromo/virtual_ndd_brain_WT_usecase/env/lib/python3.8/site-packages/numpy/lib/function_base.py:2854: RuntimeWarning: invalid value encountered in divide\n",
      "  c /= stddev[:, None]\n",
      "/home/izaak/local_repos/nostromo/virtual_ndd_brain_WT_usecase/env/lib/python3.8/site-packages/numpy/lib/function_base.py:2855: RuntimeWarning: invalid value encountered in divide\n",
      "  c /= stddev[None, :]\n",
      "/home/izaak/local_repos/nostromo/virtual_ndd_brain_WT_usecase/env/lib/python3.8/site-packages/numpy/lib/function_base.py:2854: RuntimeWarning: invalid value encountered in divide\n",
      "  c /= stddev[:, None]\n",
      "/home/izaak/local_repos/nostromo/virtual_ndd_brain_WT_usecase/env/lib/python3.8/site-packages/numpy/lib/function_base.py:2855: RuntimeWarning: invalid value encountered in divide\n",
      "  c /= stddev[None, :]\n",
      "/home/izaak/local_repos/nostromo/virtual_ndd_brain_WT_usecase/env/lib/python3.8/site-packages/numpy/lib/function_base.py:2854: RuntimeWarning: invalid value encountered in divide\n",
      "  c /= stddev[:, None]\n",
      "/home/izaak/local_repos/nostromo/virtual_ndd_brain_WT_usecase/env/lib/python3.8/site-packages/numpy/lib/function_base.py:2855: RuntimeWarning: invalid value encountered in divide\n",
      "  c /= stddev[None, :]\n",
      "/home/izaak/local_repos/nostromo/virtual_ndd_brain_WT_usecase/env/lib/python3.8/site-packages/numpy/lib/function_base.py:2854: RuntimeWarning: invalid value encountered in divide\n",
      "  c /= stddev[:, None]\n",
      "/home/izaak/local_repos/nostromo/virtual_ndd_brain_WT_usecase/env/lib/python3.8/site-packages/numpy/lib/function_base.py:2855: RuntimeWarning: invalid value encountered in divide\n",
      "  c /= stddev[None, :]\n",
      "/home/izaak/local_repos/nostromo/virtual_ndd_brain_WT_usecase/env/lib/python3.8/site-packages/numpy/lib/function_base.py:2854: RuntimeWarning: invalid value encountered in divide\n",
      "  c /= stddev[:, None]\n",
      "/home/izaak/local_repos/nostromo/virtual_ndd_brain_WT_usecase/env/lib/python3.8/site-packages/numpy/lib/function_base.py:2855: RuntimeWarning: invalid value encountered in divide\n",
      "  c /= stddev[None, :]\n",
      "/home/izaak/local_repos/nostromo/virtual_ndd_brain_WT_usecase/env/lib/python3.8/site-packages/numpy/lib/function_base.py:2854: RuntimeWarning: invalid value encountered in divide\n",
      "  c /= stddev[:, None]\n",
      "/home/izaak/local_repos/nostromo/virtual_ndd_brain_WT_usecase/env/lib/python3.8/site-packages/numpy/lib/function_base.py:2855: RuntimeWarning: invalid value encountered in divide\n",
      "  c /= stddev[None, :]\n",
      "/home/izaak/local_repos/nostromo/virtual_ndd_brain_WT_usecase/env/lib/python3.8/site-packages/numpy/lib/function_base.py:2854: RuntimeWarning: invalid value encountered in divide\n",
      "  c /= stddev[:, None]\n",
      "/home/izaak/local_repos/nostromo/virtual_ndd_brain_WT_usecase/env/lib/python3.8/site-packages/numpy/lib/function_base.py:2855: RuntimeWarning: invalid value encountered in divide\n",
      "  c /= stddev[None, :]\n",
      "/home/izaak/local_repos/nostromo/virtual_ndd_brain_WT_usecase/env/lib/python3.8/site-packages/numpy/lib/function_base.py:2854: RuntimeWarning: invalid value encountered in divide\n",
      "  c /= stddev[:, None]\n",
      "/home/izaak/local_repos/nostromo/virtual_ndd_brain_WT_usecase/env/lib/python3.8/site-packages/numpy/lib/function_base.py:2855: RuntimeWarning: invalid value encountered in divide\n",
      "  c /= stddev[None, :]\n",
      "/home/izaak/local_repos/nostromo/virtual_ndd_brain_WT_usecase/env/lib/python3.8/site-packages/numpy/lib/function_base.py:2854: RuntimeWarning: invalid value encountered in divide\n",
      "  c /= stddev[:, None]\n",
      "/home/izaak/local_repos/nostromo/virtual_ndd_brain_WT_usecase/env/lib/python3.8/site-packages/numpy/lib/function_base.py:2855: RuntimeWarning: invalid value encountered in divide\n",
      "  c /= stddev[None, :]\n",
      "/home/izaak/local_repos/nostromo/virtual_ndd_brain_WT_usecase/env/lib/python3.8/site-packages/numpy/lib/function_base.py:2854: RuntimeWarning: invalid value encountered in divide\n",
      "  c /= stddev[:, None]\n",
      "/home/izaak/local_repos/nostromo/virtual_ndd_brain_WT_usecase/env/lib/python3.8/site-packages/numpy/lib/function_base.py:2855: RuntimeWarning: invalid value encountered in divide\n",
      "  c /= stddev[None, :]\n",
      "/home/izaak/local_repos/nostromo/virtual_ndd_brain_WT_usecase/env/lib/python3.8/site-packages/numpy/lib/function_base.py:2854: RuntimeWarning: invalid value encountered in divide\n",
      "  c /= stddev[:, None]\n",
      "/home/izaak/local_repos/nostromo/virtual_ndd_brain_WT_usecase/env/lib/python3.8/site-packages/numpy/lib/function_base.py:2855: RuntimeWarning: invalid value encountered in divide\n",
      "  c /= stddev[None, :]\n",
      "/home/izaak/local_repos/nostromo/virtual_ndd_brain_WT_usecase/env/lib/python3.8/site-packages/numpy/lib/function_base.py:2854: RuntimeWarning: invalid value encountered in divide\n",
      "  c /= stddev[:, None]\n",
      "/home/izaak/local_repos/nostromo/virtual_ndd_brain_WT_usecase/env/lib/python3.8/site-packages/numpy/lib/function_base.py:2855: RuntimeWarning: invalid value encountered in divide\n",
      "  c /= stddev[None, :]\n",
      "/home/izaak/local_repos/nostromo/virtual_ndd_brain_WT_usecase/env/lib/python3.8/site-packages/numpy/lib/function_base.py:2854: RuntimeWarning: invalid value encountered in divide\n",
      "  c /= stddev[:, None]\n",
      "/home/izaak/local_repos/nostromo/virtual_ndd_brain_WT_usecase/env/lib/python3.8/site-packages/numpy/lib/function_base.py:2855: RuntimeWarning: invalid value encountered in divide\n",
      "  c /= stddev[None, :]\n",
      "/home/izaak/local_repos/nostromo/virtual_ndd_brain_WT_usecase/env/lib/python3.8/site-packages/numpy/lib/function_base.py:2854: RuntimeWarning: invalid value encountered in divide\n",
      "  c /= stddev[:, None]\n",
      "/home/izaak/local_repos/nostromo/virtual_ndd_brain_WT_usecase/env/lib/python3.8/site-packages/numpy/lib/function_base.py:2855: RuntimeWarning: invalid value encountered in divide\n",
      "  c /= stddev[None, :]\n",
      "/home/izaak/local_repos/nostromo/virtual_ndd_brain_WT_usecase/env/lib/python3.8/site-packages/numpy/lib/function_base.py:2854: RuntimeWarning: invalid value encountered in divide\n",
      "  c /= stddev[:, None]\n",
      "/home/izaak/local_repos/nostromo/virtual_ndd_brain_WT_usecase/env/lib/python3.8/site-packages/numpy/lib/function_base.py:2855: RuntimeWarning: invalid value encountered in divide\n",
      "  c /= stddev[None, :]\n",
      "/home/izaak/local_repos/nostromo/virtual_ndd_brain_WT_usecase/env/lib/python3.8/site-packages/numpy/lib/function_base.py:2854: RuntimeWarning: invalid value encountered in divide\n",
      "  c /= stddev[:, None]\n",
      "/home/izaak/local_repos/nostromo/virtual_ndd_brain_WT_usecase/env/lib/python3.8/site-packages/numpy/lib/function_base.py:2855: RuntimeWarning: invalid value encountered in divide\n",
      "  c /= stddev[None, :]\n",
      "/home/izaak/local_repos/nostromo/virtual_ndd_brain_WT_usecase/env/lib/python3.8/site-packages/numpy/lib/function_base.py:2854: RuntimeWarning: invalid value encountered in divide\n",
      "  c /= stddev[:, None]\n",
      "/home/izaak/local_repos/nostromo/virtual_ndd_brain_WT_usecase/env/lib/python3.8/site-packages/numpy/lib/function_base.py:2855: RuntimeWarning: invalid value encountered in divide\n",
      "  c /= stddev[None, :]\n",
      "/home/izaak/local_repos/nostromo/virtual_ndd_brain_WT_usecase/env/lib/python3.8/site-packages/numpy/lib/function_base.py:2854: RuntimeWarning: invalid value encountered in divide\n",
      "  c /= stddev[:, None]\n",
      "/home/izaak/local_repos/nostromo/virtual_ndd_brain_WT_usecase/env/lib/python3.8/site-packages/numpy/lib/function_base.py:2855: RuntimeWarning: invalid value encountered in divide\n",
      "  c /= stddev[None, :]\n",
      "/home/izaak/local_repos/nostromo/virtual_ndd_brain_WT_usecase/env/lib/python3.8/site-packages/numpy/lib/function_base.py:2854: RuntimeWarning: invalid value encountered in divide\n",
      "  c /= stddev[:, None]\n",
      "/home/izaak/local_repos/nostromo/virtual_ndd_brain_WT_usecase/env/lib/python3.8/site-packages/numpy/lib/function_base.py:2855: RuntimeWarning: invalid value encountered in divide\n",
      "  c /= stddev[None, :]\n",
      "/home/izaak/local_repos/nostromo/virtual_ndd_brain_WT_usecase/env/lib/python3.8/site-packages/numpy/lib/function_base.py:2854: RuntimeWarning: invalid value encountered in divide\n",
      "  c /= stddev[:, None]\n",
      "/home/izaak/local_repos/nostromo/virtual_ndd_brain_WT_usecase/env/lib/python3.8/site-packages/numpy/lib/function_base.py:2855: RuntimeWarning: invalid value encountered in divide\n",
      "  c /= stddev[None, :]\n",
      "/home/izaak/local_repos/nostromo/virtual_ndd_brain_WT_usecase/env/lib/python3.8/site-packages/numpy/lib/function_base.py:2854: RuntimeWarning: invalid value encountered in divide\n",
      "  c /= stddev[:, None]\n",
      "/home/izaak/local_repos/nostromo/virtual_ndd_brain_WT_usecase/env/lib/python3.8/site-packages/numpy/lib/function_base.py:2855: RuntimeWarning: invalid value encountered in divide\n",
      "  c /= stddev[None, :]\n",
      "/home/izaak/local_repos/nostromo/virtual_ndd_brain_WT_usecase/env/lib/python3.8/site-packages/numpy/lib/function_base.py:2854: RuntimeWarning: invalid value encountered in divide\n",
      "  c /= stddev[:, None]\n",
      "/home/izaak/local_repos/nostromo/virtual_ndd_brain_WT_usecase/env/lib/python3.8/site-packages/numpy/lib/function_base.py:2855: RuntimeWarning: invalid value encountered in divide\n",
      "  c /= stddev[None, :]\n",
      "/home/izaak/local_repos/nostromo/virtual_ndd_brain_WT_usecase/env/lib/python3.8/site-packages/numpy/lib/function_base.py:2854: RuntimeWarning: invalid value encountered in divide\n",
      "  c /= stddev[:, None]\n",
      "/home/izaak/local_repos/nostromo/virtual_ndd_brain_WT_usecase/env/lib/python3.8/site-packages/numpy/lib/function_base.py:2855: RuntimeWarning: invalid value encountered in divide\n",
      "  c /= stddev[None, :]\n",
      "/home/izaak/local_repos/nostromo/virtual_ndd_brain_WT_usecase/env/lib/python3.8/site-packages/numpy/lib/function_base.py:2854: RuntimeWarning: invalid value encountered in divide\n",
      "  c /= stddev[:, None]\n",
      "/home/izaak/local_repos/nostromo/virtual_ndd_brain_WT_usecase/env/lib/python3.8/site-packages/numpy/lib/function_base.py:2855: RuntimeWarning: invalid value encountered in divide\n",
      "  c /= stddev[None, :]\n",
      "/home/izaak/local_repos/nostromo/virtual_ndd_brain_WT_usecase/env/lib/python3.8/site-packages/numpy/lib/function_base.py:2854: RuntimeWarning: invalid value encountered in divide\n",
      "  c /= stddev[:, None]\n",
      "/home/izaak/local_repos/nostromo/virtual_ndd_brain_WT_usecase/env/lib/python3.8/site-packages/numpy/lib/function_base.py:2855: RuntimeWarning: invalid value encountered in divide\n",
      "  c /= stddev[None, :]\n",
      "/home/izaak/local_repos/nostromo/virtual_ndd_brain_WT_usecase/env/lib/python3.8/site-packages/numpy/lib/function_base.py:2854: RuntimeWarning: invalid value encountered in divide\n",
      "  c /= stddev[:, None]\n",
      "/home/izaak/local_repos/nostromo/virtual_ndd_brain_WT_usecase/env/lib/python3.8/site-packages/numpy/lib/function_base.py:2855: RuntimeWarning: invalid value encountered in divide\n",
      "  c /= stddev[None, :]\n"
     ]
    }
   ],
   "source": [
    "df = pd.DataFrame(\n",
    "    [ \n",
    "        summary_stats(dset.load_bold(subject), limbic_idx) \n",
    "        for subject in dset.subjects \n",
    "    ],\n",
    "    index=dset.subjects\n",
    ")"
   ]
  },
  {
   "cell_type": "markdown",
   "id": "96dd1f21-0ef8-4b2c-b257-583408c4a6f7",
   "metadata": {},
   "source": [
    "Now we can plot the selected statistics of interest across the groups."
   ]
  },
  {
   "cell_type": "code",
   "execution_count": 60,
   "id": "c5534a0b-b351-4c2b-ad32-413573fe65d4",
   "metadata": {
    "tags": []
   },
   "outputs": [
    {
     "data": {
      "text/plain": [
       "fcd_limbic_std    Axes(0.125,0.11;0.775x0.77)\n",
       "dtype: object"
      ]
     },
     "execution_count": 60,
     "metadata": {},
     "output_type": "execute_result"
    },
    {
     "data": {
      "image/png": "[encoded data removed]",
      "text/plain": [
       "<Figure size 640x480 with 1 Axes>"
      ]
     },
     "metadata": {},
     "output_type": "display_data"
    }
   ],
   "source": [
    "df.join(dset.subjects_metadata).plot(kind='box',by='group', column='fcd_limbic_std')"
   ]
  },
  {
   "cell_type": "markdown",
   "id": "f0cf1cc8-5516-4fc0-9dea-e03c92070908",
   "metadata": {},
   "source": [
    "Equipped with these observations, we can start formulating the mechanistic model relating the structural and functional changes in the NDD."
   ]
  }
 ],
 "metadata": {
  "kernelspec": {
   "display_name": "Python 3 (ipykernel)",
   "language": "python",
   "name": "python3"
  },
  "language_info": {
   "codemirror_mode": {
    "name": "ipython",
    "version": 3
   },
   "file_extension": ".py",
   "mimetype": "text/x-python",
   "name": "python",
   "nbconvert_exporter": "python",
   "pygments_lexer": "ipython3",
   "version": "3.8.16"
  }
 },
 "nbformat": 4,
 "nbformat_minor": 5
}
